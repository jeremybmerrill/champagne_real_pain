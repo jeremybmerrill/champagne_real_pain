{
 "cells": [
  {
   "cell_type": "markdown",
   "id": "40e507a6-ba2a-461c-9694-730b0c7b88e1",
   "metadata": {},
   "source": [
    "---\n",
    "title: \"Champagne for my real friends\"\n",
    "subtitle: Real pain for my sham friends, real tricks for my meh friends, and finding more like this with NLP\n",
    "author: \n",
    " - name: \"Jeremy B. Merrill\"\n",
    "   url: https://www.jeremybmerrill.com\n",
    "date: today\n",
    "title-block-banner: true\n",
    "format: \n",
    "  html:\n",
    "    code-fold: true\n",
    "    toc: true\n",
    "toc-depth: 3\n",
    "jupyter: python3\n",
    "open-graph:\n",
    "   title: Real tricks for my meh friends, real croc for my faux friends\n",
    "   description: \"'Champagne for my real friends, real pain for my sham friends' is clever. Let's find more phrases like that with NLP.\"\n",
    "   image: https://jeremybmerrill.com/images/folkrock_croc.png\n",
    "---\n",
    "\n",
    "What a catchy phrase. Someone [nerd-sniped me](https://xkcd.com/356/) in July, essentially daring me to find some more. Here's how I tricked the computer into coming up with more `champagne phrases` like this, using natural language processing tools like \n",
    "\n",
    "- the CMU Pronouncing Dictionary\n",
    "- GLoVe\n",
    "- a wordlist with frequencies\n",
    "- WordNet\n",
    "\n",
    "::: {.callout-note collapse=\"true\"}\n",
    "## Click for a sample of the final output (spoiler alert!)\n",
    "\n",
    "- metrics for my real friends, real tricks for my meh friends\n",
    "- focus for my real friends, real cuss for my faux friends\n",
    "- shamrocks for my real friends, real rocks for my sham friends\n",
    "- folkrock for my real friends, real croc for my faux friends\n",
    "- photos for my real friends, real toes for my faux friends\n",
    "- midrash for my real friends, real rash for my mid friends\n",
    "- medics for my real friends, real dicks for my meh friends\n",
    "- crappie for my real friends, real pee for my crap friends\n",
    ":::"
   ]
  },
  {
   "cell_type": "markdown",
   "id": "753b4d7c",
   "metadata": {},
   "source": [
    "## But how do computers know how words sound?\n",
    "\n",
    "The [CMU Pronouncing Dictionary](www.speech.cs.cmu.edu/cgi-bin/cmudict) is a classical natural language processing resource that lists words and their pronunciations. It's thirty years old! It was compiled by humans who painstakingly listed each word's pronunciations -- no neural nets or artificial intelligence here.\n",
    "\n",
    "::: {.callout-tip collapse=\"true\"}\n",
    "## What is classical NLP? Why not use ChatGPT?\n",
    "\n",
    "So-called classical natural language processing relies on computational representations of the kinds of grammar concepts used by linguists. Think back to middle-school English class. You learned about nouns and verbs and how to diagram a sentence. Natural language processing analyzes language with those kinds of representations.\n",
    "\n",
    "This differs from AI-based NLP, whose representation of language tends to be more of black box. That black box representation is good for a lot of things, but it's famously terrible at computational humor.\n",
    "\n",
    "Here's what ChatGPT gave me when I asked it for _can you come up with some variants on the \"champagne for my real friends, real pain for my sham friends?\" template, but using different words than champagne, sham and pain?_.\n",
    "\n",
    "1. \"Laughter for my true friends, heartfelt tears for my false friends.\"\n",
    "2. \"Confetti for my loyal friends, bitter truth for my deceitful friends.\"\n",
    "3. \"Hugs for my genuine friends, icy distance for my deceptive friends.\"\n",
    "4. \"Sunshine for my authentic friends, thunderstorms for my treacherous friends.\"\n",
    "\n",
    "Those are terrible! They don't follow the template at all! We can do better with classical NLP.\n",
    "\n",
    "(But if you can coax better examples out of ChatGPT, let me know!)\n",
    ":::\n",
    "\n",
    "If we're gonna find more slogans like _champagne for my real friends, real pain for my sham friends_, we'll have to find words like _champagne_ that **sound** like compounds of a word like _sham_ and a word like _pain_ -- regardless of how they're spelled.\n",
    "\n",
    "Another example of what we're looking for is _focus for my real friends, real cuss for my faux friends_. In this example, _focus_ is our `champagne compound word`, and it's composed of _faux_ (a `sham word`) and _cuss_ (a `pain word`).\n",
    "\n",
    "Look below to see what the pronunciation of _champagne_ looks like, and how it's made up of the pronunciations of _sham_ and _pain_.\n",
    "\n",
    "(Throughout this post, sections of computer code are collapsed. If you want to see the Python code that makes this project work, click the little gray arrow on the left to expand the code.)"
   ]
  },
  {
   "cell_type": "code",
   "execution_count": 1,
   "id": "45e0a43e-042e-4be9-a69a-77bd631e1c9c",
   "metadata": {},
   "outputs": [
    {
     "name": "stdout",
     "output_type": "stream",
     "text": [
      "pronunciation of champagne is [['SH', 'AE0', 'M', 'P', 'EY1', 'N']]\n",
      "pronunciation of sham is [['SH', 'AE1', 'M']]\n",
      "pronunciation of pain is [['P', 'EY1', 'N']]\n"
     ]
    }
   ],
   "source": [
    "#| code-fold: true\n",
    "#| code-summary: \"print a few pronunciations\"\n",
    "\n",
    "import cmudict\n",
    "cmudict_dict = cmudict.dict()\n",
    "\n",
    "for word in [\"champagne\", \"sham\", \"pain\"]:\n",
    "    print(\"pronunciation of {} is {}\".format(word, cmudict_dict[word]))\n"
   ]
  },
  {
   "cell_type": "markdown",
   "id": "735c3a34",
   "metadata": {},
   "source": [
    "## An initial rubric for a `champagne phrase` \n",
    "\n",
    "A `champagne phrase`: `sham word` is an adjective and a `pain word` is a word that, when their pronunciations are combined, make a `champagne compound word`.\n",
    "\n",
    "We'll revise this later, but this is enough to try to get started with generating `champagne phrases.`"
   ]
  },
  {
   "cell_type": "markdown",
   "id": "e0523fdd-cf59-42d6-98c0-670cc5edaa3a",
   "metadata": {},
   "source": [
    "## Implementing our initial rubric\n",
    "\n",
    "Let's use \"faux\" as our `sham word`. So we're looking for phrases like _faux pain for my real friends, real pain for my faux friends_... except where _faux pain_ is a real word.\n",
    "\n",
    "So, now, let's find our `champagne compound word`s, but starting with the sound \"faux\"."
   ]
  },
  {
   "cell_type": "code",
   "execution_count": 2,
   "id": "cbd7fcb9-741e-48f5-9f13-9a3fb63bda88",
   "metadata": {},
   "outputs": [],
   "source": [
    "#| echo: false\n",
    "#| code-fold: false\n",
    "\n",
    "SHAM_WORD = \"faux\""
   ]
  },
  {
   "cell_type": "markdown",
   "id": "033e046f-e6f2-48f6-b633-5dc16a808e8f",
   "metadata": {},
   "source": [
    "### Cleaning up the pronunciations\n",
    "\n",
    "The pronunciations in our example above _almost_ match, but not quite.\n",
    "\n",
    "```\n",
    "champagne: [['SH', 'AE0', 'M', 'P', 'EY1', 'N']]\n",
    "sham:      [['SH', 'AE1', 'M']]\n",
    "pain:                        [['P', 'EY1', 'N']]\n",
    "```\n",
    "\n",
    "The problem is that the vowel in _sham_ (`AE1`) isn't quite the same as the first vowel in _champagne_ (`AE0`). The numbers represent stress. `1` is primary stress; `2` is secondary, and `0` is no stress. We don't really care about stress for our joke format, so we will \"clean\" the data to ignore stress."
   ]
  },
  {
   "cell_type": "code",
   "execution_count": 3,
   "id": "8f6a2dc5-ef0f-45e7-9254-ad92fd80d2e9",
   "metadata": {},
   "outputs": [],
   "source": [
    "#| echo: true\n",
    "#| code-fold: true\n",
    "#| code-summary: \"def remove_stress(phon):\"\n",
    "\n",
    "def remove_stress(phon):\n",
    "    return ''.join(i for i in phon if not i.isdigit())\n",
    "\n",
    "def clean_phonemes(pron):\n",
    "    pron = tuple(remove_stress(phon) for phon in pron) # remove stress        \n",
    "    return pron\n",
    "\n",
    "# map nouns to their \"cleaned\" pronunciations\n",
    "word_pronunciations = {}\n",
    "for word, prons in cmudict_dict.items():\n",
    "    word_pronunciations[word] = [clean_phonemes(pron) for pron in prons]\n"
   ]
  },
  {
   "cell_type": "code",
   "execution_count": 4,
   "id": "0fa982c4-1403-4fd2-a2f1-6887ed0aef88",
   "metadata": {},
   "outputs": [
    {
     "name": "stdout",
     "output_type": "stream",
     "text": [
      "Here are words (our candidate champagne compound words) that start with ('F', 'OW')\n",
      " - faucette: [('F', 'OW', 'S', 'EH', 'T')]\n",
      " - faucheux: [('F', 'OW', 'SH', 'OW')]\n",
      " - faupel: [('F', 'OW', 'P', 'EH', 'L')]\n",
      " - fauteux: [('F', 'OW', 'T', 'OW')]\n",
      " - foal: [('F', 'OW', 'L')]\n",
      " - foale: [('F', 'OW', 'L')]\n",
      " - foale's: [('F', 'OW', 'L', 'Z')]\n",
      " - foaling: [('F', 'OW', 'L', 'IH', 'NG')]\n",
      " - foam: [('F', 'OW', 'M')]\n",
      " - foaming: [('F', 'OW', 'M', 'IH', 'NG')]\n",
      " - foams: [('F', 'OW', 'M', 'Z')]\n",
      " - foamy: [('F', 'OW', 'M', 'IY')]\n",
      " - fobel: [('F', 'OW', 'B', 'AH', 'L')]\n",
      " - fobel's: [('F', 'OW', 'B', 'AH', 'L', 'Z')]\n",
      " - fobes: [('F', 'OW', 'B', 'Z')]\n",
      "and 154 additional words hidden\n"
     ]
    }
   ],
   "source": [
    "#| code-summary: \"def find_candidate_champagne_compound_words(word_prons):\"\n",
    "\n",
    "# Due to an error in the CMU pronouncing dictionary, we have to specify that _faux_ \n",
    "# is actually pronounced like _foe_. (Not like _fox_.)\n",
    "SHAM_WORD_OVERRIDE = \"foe\" # None or \"foe\" # in case the pronunciation of the TARGET_WORD is wrong, as it oddly is for \"faux\"\n",
    "SHAM_SYLLABLE = word_pronunciations[SHAM_WORD_OVERRIDE or SHAM_WORD][0]\n",
    "\n",
    "HOW_MANY_TO_SHOW = 15\n",
    "\n",
    "def find_candidate_champagne_compound_words(word_prons, sham_syllable=SHAM_SYLLABLE):\n",
    "    \"\"\"\n",
    "    champagne compound words have to start with the same sounds as the cham word (but can't be identical, it has to be longer!)\n",
    "    \"\"\"\n",
    "    word, prons = word_prons # destructuring\n",
    "    return any([                                              # candidate words must:\n",
    "               pron[:len(sham_syllable)] == sham_syllable and # start with same sounds\n",
    "               pron != sham_syllable                          # but be different\n",
    "            for pron in prons])\n",
    "\n",
    "nouns_starting_with_sham_word = list(filter(find_candidate_champagne_compound_words, word_pronunciations.items()))\n",
    "print(\"Here are words (our candidate champagne compound words) that start with {}\".format(SHAM_SYLLABLE))\n",
    "for noun, prons in nouns_starting_with_sham_word[:HOW_MANY_TO_SHOW]:\n",
    "    print(f\" - {noun}: {prons}\")\n",
    "if len(nouns_starting_with_sham_word) > HOW_MANY_TO_SHOW:\n",
    "    print(\"and {} additional words hidden\".format(len(nouns_starting_with_sham_word) - HOW_MANY_TO_SHOW))"
   ]
  },
  {
   "cell_type": "markdown",
   "id": "7a9b5621-ee03-4e21-82ec-2ac85d4950da",
   "metadata": {},
   "source": [
    "### Finding pain words\n",
    "\n",
    "For each of our candidate `champagne compound word`s (_folklore_, _folder_, etc.), we're going to check and see if it contains a `pain word`. That is, we're asking if _klore_ or _lder_ are words -- even if they're spelled differently.\n",
    "\n",
    "We do this really naively, by looping through every pronunciation of every single word in the dictionary, to see if matches the second half of the pronunciation of our candidate `champagne compound word`."
   ]
  },
  {
   "cell_type": "code",
   "execution_count": 5,
   "id": "40a4f756-8495-42ad-b211-a4d7ba8c5dc0",
   "metadata": {},
   "outputs": [
    {
     "name": "stdout",
     "output_type": "stream",
     "text": [
      "faucette for my real friends, real set for my faux friends\n",
      "faucette for my real friends, real sette for my faux friends\n",
      "faucheux for my real friends, real chau for my faux friends\n",
      "faucheux for my real friends, real schau for my faux friends\n",
      "faucheux for my real friends, real show for my faux friends\n",
      "faupel for my real friends, real pehl for my faux friends\n",
      "faupel for my real friends, real pell for my faux friends\n",
      "faupel for my real friends, real pelle for my faux friends\n",
      "fauteux for my real friends, real toe for my faux friends\n",
      "fauteux for my real friends, real tow for my faux friends\n",
      "fauteux for my real friends, real towe for my faux friends\n",
      "foal for my real friends, real ohl for my faux friends\n",
      "foal for my real friends, real ol' for my faux friends\n",
      "foal for my real friends, real ole for my faux friends\n",
      "foale for my real friends, real ohl for my faux friends\n",
      "... (224 additional examples hidden)\n"
     ]
    }
   ],
   "source": [
    "#| code-summary: \"{} for my real friends, real {} for my {} friends\"\n",
    "\n",
    "count_so_far = 0\n",
    "HOW_MANY_TO_SHOW = 15\n",
    "total = 0\n",
    "\n",
    "for candidate_word, candidate_prons in nouns_starting_with_sham_word:\n",
    "    for pron in candidate_prons:\n",
    "        for word, prons in word_pronunciations.items():\n",
    "            if (pron[len(SHAM_SYLLABLE):] in prons) or (pron[len(SHAM_SYLLABLE)-1:] in prons):\n",
    "                count_so_far += 1\n",
    "                if count_so_far <= HOW_MANY_TO_SHOW: \n",
    "                    print(\"{} for my real friends, real {} for my {} friends\".format(candidate_word, word, SHAM_WORD))\n",
    "if count_so_far > HOW_MANY_TO_SHOW:\n",
    "    print(f\"... ({count_so_far - HOW_MANY_TO_SHOW} additional examples hidden)\")"
   ]
  },
  {
   "cell_type": "markdown",
   "id": "d56f3d5b-f012-47eb-97b7-fc5fca0e80e9",
   "metadata": {},
   "source": [
    "Very cool! Those are kind of right.\n",
    "\n",
    "_focusing for my real friends, real kissing for my faux friends_ has got a ring to it, but kind of has the wrong valence. Who wishes kisses on their faux friends? Our `pain word` should be negative; and the `champagne compound word` should be positive, or at least neutral.\n",
    "\n",
    "But let's look closer.\n",
    "\n",
    "- _foamy for my real friends, real me for my faux friends_\n",
    " \n",
    "This is kind of funny, but _foamy_ is an adjective. That means that the phrase doesn't make a lot of sense. Let's try to skip those.\n",
    "\n",
    "- _focus for my real friends, real cos for my faux friends_\n",
    "- _focus for my real friends, real kiss for my faux friends_\n",
    "- _focus for my real friends, real kos for my faux friends_\n",
    " \n",
    "\n",
    "Some of the proposals are doubled. And, _cos_ and _kos_ aren't words I've heard of, we should try to eliminate those.\n"
   ]
  },
  {
   "cell_type": "markdown",
   "id": "ed8a69a1-5fb9-416c-b50c-cd2620ade66a",
   "metadata": {},
   "source": [
    "## A more robust rubric for `champagne phrases`\n",
    "\n",
    "In our first attempt at generating these phrases, we noticed a few problems that add up to too many proposed champagne phrases that are too often crappy.\n",
    "\n",
    "- non-nouns\n",
    "- weird, very rare words\n",
    "- multiple pronunciations of the same sounds\n",
    "- overprecise vowel matches mean we miss some slant rhymes that should be ok.\n",
    "- some of the `pain words` are actually positive; it doesn't make sense to wish a real kiss for your faux friends.\n",
    "\n",
    "Our initial rubric was that a `champagne phrase` is `sham word` and a `pain word` that, when combined, make a `champagne compound word`.\n",
    "\n",
    "We can revise that to:\n",
    "\n",
    "A `champagne phrase`: a `sham word` is an adjective and a `pain word` is a frequent, common noun with a negative meaning that, when their pronunciations are combined (with perhaps a bit of phonological fudging), make a `champagne compound word` with positive or neutral meaning.\n",
    "\n",
    "Here's our implementation."
   ]
  },
  {
   "cell_type": "code",
   "execution_count": 6,
   "id": "d11760f8",
   "metadata": {},
   "outputs": [],
   "source": [
    "#| echo: false\n",
    "import itertools\n",
    "\n",
    "from os import environ\n",
    "NSFW_WORDS_ALLOWED = environ.get(\"NSFW_WORDS_ALLOWED\")\n",
    "import base64\n",
    "\n",
    "# helper functions for masking NSFW terms.\n",
    "def mask_nsfw(string):\n",
    "    return base64.b64encode(string.encode()).decode()\n",
    "    \n",
    "def unmask_nsfw(b64string):\n",
    "    return base64.b64decode(b64string).decode()\n",
    "\n",
    "test_input_str = 'asdfasdf'\n",
    "assert unmask_nsfw(mask_nsfw(test_input_str)) == test_input_str"
   ]
  },
  {
   "cell_type": "markdown",
   "id": "3480d658",
   "metadata": {},
   "source": [
    "### Pain words and champagne compound words have to be nouns\n",
    "\n",
    "Let's use Wordnet to filter just to words that are common nouns -- excluding adjectives and proper nouns. More specifically, for our purposes, a common noun is a word that has a lemma in WordNet that's classified as a noun and is lower-cased.\n",
    "\n",
    "Wordnet doesn't include every word, which means we would inadvertantly exclude gems like these,\n",
    "\n",
    " - _folkrock for my real friends, real croc for my faux friends_\n",
    " - _chamonix for real friends, real money for my sham friends_\n",
    " - _midrash for my real friends, real rash for my mid friends_\n",
    " - _shampoo for my real friends, real poo for my sham friends_\n",
    " \n",
    "because _folkrock_, _chamonix_, _poo_, and _midrash_ aren't in Wordnet. (The first three are in the CMU Pronouncing Dictionary.) So we add them back here as special extra nouns.\n",
    "\n",
    "(And we definitely do want _folkrock for my real friends, real croc for my faux friends_, because it lets us show this wonderful, low-effort piece of AI-art of a vengeful Americana banjo player.)\n",
    "![](https://jeremybmerrill.com/images/folkrock_croc.png){.preview-image width=50%}"
   ]
  },
  {
   "cell_type": "code",
   "execution_count": 7,
   "id": "dbfca093",
   "metadata": {},
   "outputs": [],
   "source": [
    "#| echo: false\n",
    "#| code-fold: true\n",
    "#| code-summary: \"EXTRA_PRONUNCIATIONS = [...]\"\n",
    "\n",
    "from nltk.corpus import wordnet\n",
    "from nltk import download as nltk_download; nltk_download('wordnet', quiet=True);\n",
    "\n",
    "EXTRA_NOUNS = [\"folkrock\", # best genre evar\n",
    "               \"chamonix\", # an area in France\n",
    "               'poo', # missing from wordnet :(\n",
    "               \"croc\", # missing from wordnet :(\n",
    "              ]\n",
    "\n",
    "\n",
    "# add pronunciations for some words that are missing from CMU\n",
    "cmudict_pronunciations = cmudict.dict()\n",
    "EXTRA_PRONUNCIATIONS = {\n",
    "    'fomites': [cmudict_pronunciations['foe'][0] + cmudict_pronunciations['mites'][0]],\n",
    "    'fomite': [cmudict_pronunciations['foe'][0] + cmudict_pronunciations['mite'][0]],\n",
    "    'shamrocks': [cmudict_pronunciations['sham'][0] + cmudict_pronunciations['rocks'][0]],\n",
    "    'chamois': [cmudict_pronunciations['sham'][0] + cmudict_pronunciations['wa'][0]],\n",
    "    'shamwow': [cmudict_pronunciations['sham'][0] + cmudict_pronunciations['wow'][0]],\n",
    "    'midrash': [cmudict_pronunciations['mid'][0] + ['R'] + cmudict_pronunciations['gash'][0][1:]],\n",
    "    'badges': [cmudict_pronunciations[\"bad\"][0] + cmudict_pronunciations['badges'][0][2:]],\n",
    "    'barflies': [cmudict_pronunciations[\"bar\"][0] + cmudict_pronunciations['flies'][0]],\n",
    "    'meh': [['M', 'EH1']],\n",
    "}\n",
    "if NSFW_WORDS_ALLOWED:\n",
    "    (unmask_nsfw('aml6eg=='), [cmudict_pronunciations['badges'][0][2:]]),\n",
    "\n",
    "for word, prons in EXTRA_PRONUNCIATIONS.items():\n",
    "    cmudict_pronunciations[word] += prons\n",
    "    \n",
    "EXTRA_NOUNS += EXTRA_PRONUNCIATIONS.keys()\n"
   ]
  },
  {
   "cell_type": "code",
   "execution_count": 8,
   "id": "687388c8",
   "metadata": {},
   "outputs": [],
   "source": [
    "#| code-fold: true\n",
    "#| code-summary: \"def is_noun(word):\"\n",
    "\n",
    "from nltk.stem import WordNetLemmatizer\n",
    "wnl = WordNetLemmatizer()\n",
    "\n",
    "\n",
    "def is_common_noun(word):\n",
    "    \"\"\"\n",
    "    A word is a common noun (versus a proper noun) if its lemma is lowercase\n",
    "    or the word itself is present as a lemma in wordnet.\n",
    "\n",
    "    A lemma is a root word with any morphology removed, like `squirrel` is the lemma for \"squirrels\".\n",
    "    \n",
    "    For unknown reasons (perhaps a bug), the NLTK implementation of Wordnet's tokenizer returns a lemma\n",
    "    of \"Te\" for \"tess\" (referring to the element Tellurium), or \"Ca\" (an abbreviation for California).\n",
    "\n",
    "    Another noun's lemma (as generated by NLTK's WordNetLemmatizer) isn't contained in Wordnet, but the\n",
    "    raw form of the word itself is. (I don't remember which word). That's why we include `word in wordnet_lemmas`.\n",
    "    \"\"\"\n",
    "    input_lemma = wnl.lemmatize(word, pos='n')\n",
    "    wordnet_lemmas = [lemma.name() for lemma in wordnet.synsets(word, pos=wordnet.NOUN)[0].lemmas()]\n",
    "\n",
    "    return input_lemma in wordnet_lemmas or word in wordnet_lemmas\n",
    "    \n",
    "assert not is_common_noun(\"mecca\")\n",
    "assert not is_common_noun(\"dawson\")\n",
    "assert not is_common_noun(\"ca\")\n",
    "assert not is_common_noun(\"dc\")\n",
    "assert not is_common_noun(\"tess\")\n",
    "assert is_common_noun(\"toes\")\n",
    "assert is_common_noun(\"champagne\")\n",
    "assert is_common_noun(\"medics\")\n",
    "\n",
    "def is_noun(word):\n",
    "    \"\"\"\n",
    "    A word is a noun if it is present in wordnet as a noun AND it is a common noun.\n",
    "    \"\"\"\n",
    "    return any(synset for synset in wordnet.synsets(word, pos=wordnet.NOUN) if is_common_noun(word)) or word in EXTRA_NOUNS\n",
    "\n",
    "assert is_noun('mite')      # testing basic case\n",
    "assert is_noun('might')     # testing words that can be multiple PoS\n",
    "assert is_noun('shamrocks') # testing plurals\n",
    "assert is_noun('mites')     # testing plurals\n",
    "assert is_noun('poo')       # testing manual additions\n",
    "assert not is_noun('photographed')     # testing handling of inflected verbs\n",
    "assert not is_noun('focused')          # testing handling of inflected verbs"
   ]
  },
  {
   "cell_type": "markdown",
   "id": "f6c0cbd7",
   "metadata": {},
   "source": [
    "### Ignore very rare words\n",
    "\n",
    "First, we download a list of word frequencies; we'll ignore anything that occurs less than 500,000 times in the corpus. Then, we download a list of nouns; we'll ignore anything that isn't a noun. (We also add back a few nouns I like.)"
   ]
  },
  {
   "cell_type": "code",
   "execution_count": 9,
   "id": "7fbddc7a-9c9f-4512-8645-648723a86b9e",
   "metadata": {},
   "outputs": [],
   "source": [
    "#| code-fold: true\n",
    "#| code-summary: \"download file of the 1/3 million most frequent words, with counts\"\n",
    "\n",
    "# ignore words that occur less than this many times in the Google Web Trillion Word Corpus \n",
    "# many of these less-frequent words are very bizarre, but appear in the CMU Pronouncing Dictionary nevertheless.\n",
    "# the champagne and sham words can be rare, but they must be nouns.\n",
    "# the pain word must be a more common noun.\n",
    "\n",
    "# download file of \"The 1/3 million most frequent words, all lowercase, with counts\"\n",
    "!wget -nc --quiet https://norvig.com/ngrams/count_1w.txt\n",
    "import csv\n",
    "with open(\"count_1w.txt\") as f:\n",
    "    word_frequencies = dict([(row[0], int(row[1])) for row in csv.reader(f, delimiter=\"\\t\")])\n",
    "\n",
    "MIN_FREQUENCY = 100_000\n"
   ]
  },
  {
   "cell_type": "markdown",
   "id": "586c2d1c",
   "metadata": {},
   "source": [
    "### More permissive vowel matching\n",
    "\n",
    "We also don't care about all the vowel distinctions that the dictionary uses. We'll implement \"vowel reductions\" that mirror some of the ways American English speakers can change vowels in fast or casual speech, so that near-identical words are okay.\n",
    "\n",
    "Also we ignore very uncommon words and non-nouns, which don't fit in the joke format."
   ]
  },
  {
   "cell_type": "markdown",
   "id": "f8ac3991",
   "metadata": {},
   "source": [
    "::: {.callout-tip collapse=\"true\"}\n",
    "## What are these vowels?"
   ]
  },
  {
   "cell_type": "code",
   "execution_count": 10,
   "id": "cf638b38",
   "metadata": {},
   "outputs": [
    {
     "data": {
      "text/html": [
       "<div>\n",
       "<style scoped>\n",
       "    .dataframe tbody tr th:only-of-type {\n",
       "        vertical-align: middle;\n",
       "    }\n",
       "\n",
       "    .dataframe tbody tr th {\n",
       "        vertical-align: top;\n",
       "    }\n",
       "\n",
       "    .dataframe thead th {\n",
       "        text-align: right;\n",
       "    }\n",
       "</style>\n",
       "<table border=\"1\" class=\"dataframe\">\n",
       "  <thead>\n",
       "    <tr style=\"text-align: right;\">\n",
       "      <th></th>\n",
       "      <th>example</th>\n",
       "      <th>pronunciation</th>\n",
       "    </tr>\n",
       "    <tr>\n",
       "      <th>vowel</th>\n",
       "      <th></th>\n",
       "      <th></th>\n",
       "    </tr>\n",
       "  </thead>\n",
       "  <tbody>\n",
       "    <tr>\n",
       "      <th>AA</th>\n",
       "      <td>top</td>\n",
       "      <td>[T, AA1, P]</td>\n",
       "    </tr>\n",
       "    <tr>\n",
       "      <th>AE</th>\n",
       "      <td>have</td>\n",
       "      <td>[HH, AE1, V]</td>\n",
       "    </tr>\n",
       "    <tr>\n",
       "      <th>AH</th>\n",
       "      <td>one</td>\n",
       "      <td>[W, AH1, N]</td>\n",
       "    </tr>\n",
       "    <tr>\n",
       "      <th>AO</th>\n",
       "      <td>law</td>\n",
       "      <td>[L, AO1]</td>\n",
       "    </tr>\n",
       "    <tr>\n",
       "      <th>AW</th>\n",
       "      <td>out</td>\n",
       "      <td>[AW1, T]</td>\n",
       "    </tr>\n",
       "    <tr>\n",
       "      <th>AY</th>\n",
       "      <td>time</td>\n",
       "      <td>[T, AY1, M]</td>\n",
       "    </tr>\n",
       "    <tr>\n",
       "      <th>EH</th>\n",
       "      <td>web</td>\n",
       "      <td>[W, EH1, B]</td>\n",
       "    </tr>\n",
       "    <tr>\n",
       "      <th>ER</th>\n",
       "      <td>first</td>\n",
       "      <td>[F, ER1, S, T]</td>\n",
       "    </tr>\n",
       "    <tr>\n",
       "      <th>EY</th>\n",
       "      <td>page</td>\n",
       "      <td>[P, EY1, JH]</td>\n",
       "    </tr>\n",
       "    <tr>\n",
       "      <th>IH</th>\n",
       "      <td>will</td>\n",
       "      <td>[W, IH1, L]</td>\n",
       "    </tr>\n",
       "    <tr>\n",
       "      <th>IY</th>\n",
       "      <td>see</td>\n",
       "      <td>[S, IY1]</td>\n",
       "    </tr>\n",
       "    <tr>\n",
       "      <th>OW</th>\n",
       "      <td>home</td>\n",
       "      <td>[HH, OW1, M]</td>\n",
       "    </tr>\n",
       "    <tr>\n",
       "      <th>OY</th>\n",
       "      <td>point</td>\n",
       "      <td>[P, OY1, N, T]</td>\n",
       "    </tr>\n",
       "    <tr>\n",
       "      <th>UH</th>\n",
       "      <td>good</td>\n",
       "      <td>[G, UH1, D]</td>\n",
       "    </tr>\n",
       "    <tr>\n",
       "      <th>UW</th>\n",
       "      <td>news</td>\n",
       "      <td>[N, UW1, Z]</td>\n",
       "    </tr>\n",
       "  </tbody>\n",
       "</table>\n",
       "</div>"
      ],
      "text/plain": [
       "      example   pronunciation\n",
       "vowel                        \n",
       "AA        top     [T, AA1, P]\n",
       "AE       have    [HH, AE1, V]\n",
       "AH        one     [W, AH1, N]\n",
       "AO        law        [L, AO1]\n",
       "AW        out        [AW1, T]\n",
       "AY       time     [T, AY1, M]\n",
       "EH        web     [W, EH1, B]\n",
       "ER      first  [F, ER1, S, T]\n",
       "EY       page    [P, EY1, JH]\n",
       "IH       will     [W, IH1, L]\n",
       "IY        see        [S, IY1]\n",
       "OW       home    [HH, OW1, M]\n",
       "OY      point  [P, OY1, N, T]\n",
       "UH       good     [G, UH1, D]\n",
       "UW       news     [N, UW1, Z]"
      ]
     },
     "metadata": {},
     "output_type": "display_data"
    }
   ],
   "source": [
    "#| echo: true\n",
    "#| code-fold: true\n",
    "#| code-summary: finding examples of each vowel, so we can find which vowels to combine\n",
    "\n",
    "try:\n",
    "    import pandas as pd\n",
    "    has_pandas = True\n",
    "except:\n",
    "    has_pandas = False\n",
    "    \n",
    "vowels = [ph for ph, types in cmudict.phones() if types[0] == 'vowel']\n",
    "vowel_examples = []\n",
    "for vowel in vowels:\n",
    "    for word, prons in sorted(cmudict_dict.items(), key=lambda word_prons: -word_frequencies.get(word_prons[0], 0)):\n",
    "        if \"'\" in word or '.' in word: continue\n",
    "        if not is_noun(word): continue\n",
    "        if 'R' in prons[0]: continue\n",
    "        if len(word) < 3 or len(word) >= 6: continue\n",
    "\n",
    "        if vowel in clean_phonemes(prons[0]):\n",
    "            vowel_examples.append((vowel, word, prons[0]))\n",
    "            break\n",
    "if has_pandas:\n",
    "    display(pd.DataFrame(vowel_examples, columns=[\"vowel\", \"example\", \"pronunciation\"]).set_index('vowel'))\n",
    "else:\n",
    "    for vowel, example, pron in vowel_examples:\n",
    "        print(vowel, example, pronunciation)\n",
    "    "
   ]
  },
  {
   "cell_type": "markdown",
   "id": "61e815a8-f53c-4959-91e6-d6b3ab599836",
   "metadata": {},
   "source": [
    ":::"
   ]
  },
  {
   "cell_type": "code",
   "execution_count": 11,
   "id": "6717cf6e-7cbf-44bd-9d75-e98ff2dfad6e",
   "metadata": {},
   "outputs": [
    {
     "name": "stdout",
     "output_type": "stream",
     "text": [
      "pronunciation of 'ruck', as is    ('R', 'AH1', 'K')\n",
      "pronunciation of 'ruck', cleaned  ('R', 'AH', 'K')\n",
      "pronunciation of 'wreck', as is   ('R', 'EH1', 'K')\n",
      "pronunciation of 'wreck', cleaned ('R', 'AH', 'K')\n"
     ]
    }
   ],
   "source": [
    "#| echo: true\n",
    "#| code-fold: true\n",
    "#| code-summary: \"def reduce_phonemes(pron):\"\n",
    "\n",
    "VOWEL_REDUCTIONS = {\n",
    "    \"AH\": \"AH\", \"AA\": \"AH\", \"AO\": \"AH\", \"UH\": \"AH\", \"IH\": \"AH\", \"EH\": \"AH\", \n",
    "    \"OW\": \"AH\" # special for chamonix / money\n",
    "}\n",
    "\n",
    "VOWEL_STRICTNESS = 2\n",
    "# 1 = least; compare only first char of vowel symbol \n",
    "# 2 = medium; perform some vowel reductions\n",
    "# 3 = most; compare vowels as is (with stress removed)\n",
    "\n",
    "def is_vowel(phon):\n",
    "    return phones_dict[remove_stress(phon)][0] == 'vowel'\n",
    "\n",
    "phones_dict = dict(cmudict.phones())\n",
    "def reduce_phonemes(pron, vowel_strictness=VOWEL_STRICTNESS):\n",
    "    if vowel_strictness < 3:\n",
    "        pron = [(phon[0] if (vowel_strictness == 1) else VOWEL_REDUCTIONS.get(remove_stress(phon), phon)) if is_vowel(phon) else phon for phon in pron]\n",
    "    pron = clean_phonemes(pron) # remove stress        \n",
    "    return pron\n",
    "    \n",
    "# `assert` lines are tests to make sure I didn't F it up.\n",
    "print(\"pronunciation of 'ruck', as is    {}\"  .format(          tuple(cmudict_dict[\"ruck\"][0])))\n",
    "print(\"pronunciation of 'ruck', cleaned  {}\".format( reduce_phonemes(cmudict_dict[\"ruck\"][0], vowel_strictness=2)))\n",
    "assert reduce_phonemes(cmudict.dict()[\"ruck\"][0], vowel_strictness=2)[1] == \"AH\"\n",
    "\n",
    "print(\"pronunciation of 'wreck', as is   {}\"  .format(          tuple(cmudict_dict[\"wreck\"][0])))\n",
    "print(\"pronunciation of 'wreck', cleaned {}\".format( reduce_phonemes(cmudict_dict[\"wreck\"][0], vowel_strictness=2)))\n",
    "assert reduce_phonemes(cmudict.dict()[\"wreck\"][0], vowel_strictness=2)[1] == \"AH\"\n",
    "\n",
    "assert reduce_phonemes(cmudict.dict()[\"ruck\"][0], vowel_strictness=1)[1] == \"A\"\n",
    "assert reduce_phonemes(cmudict.dict()[\"wreck\"][0], vowel_strictness=1)[1] == \"E\"\n",
    "\n",
    "assert reduce_phonemes(cmudict.dict()[\"ruck\"][0], vowel_strictness=3)[1] == \"AH\"\n",
    "assert reduce_phonemes(cmudict.dict()[\"wreck\"][0], vowel_strictness=3)[1] == \"EH\"\n"
   ]
  },
  {
   "cell_type": "code",
   "execution_count": 12,
   "id": "1ef70fe1",
   "metadata": {},
   "outputs": [],
   "source": [
    "#| echo: false\n",
    "#| code-fold: true\n",
    "\n",
    "# map nouns to their \"cleaned\" pronunciations\n",
    "\n",
    "# champagne compound words are allowed to be infrequent.\n",
    "strict_noun_pronunciations = {} # the sham word has to exactly match the start of the champagne compound word, because \n",
    "                                # the joke format relies on ambiguity between \"champagne\" and \"sham pain\".\n",
    "\n",
    "strict_word_pronunciations = {} # candidate sham words (which are adjectives, not nouns) and can be uncommon.\n",
    "\n",
    "# but pain words have to be frequent .\n",
    "strict_frequent_noun_pronunciations = {}\n",
    "reduced_frequent_noun_pronunciations = {} # the pain word can match a reduced pronunciation of the back half of the\n",
    "                                        # champagne compound word.\n",
    "for word, prons in cmudict_pronunciations.items():\n",
    "    strict_word_pronunciations[word] = [reduce_phonemes(pron, vowel_strictness=3) for pron in prons]\n",
    "    if is_noun(word): \n",
    "        strict_noun_pronunciations[word] = [reduce_phonemes(pron, vowel_strictness=3) for pron in prons]\n",
    "        if word_frequencies.get(word, 0) > MIN_FREQUENCY or word in EXTRA_NOUNS:\n",
    "            reduced_frequent_noun_pronunciations[word] = [reduce_phonemes(pron) for pron in prons]\n",
    "            strict_frequent_noun_pronunciations[word]  = [reduce_phonemes(pron, vowel_strictness=3) for pron in prons]"
   ]
  },
  {
   "cell_type": "markdown",
   "id": "6ecc86bd-116a-4f4a-898a-234de7398fa3",
   "metadata": {
    "tags": []
   },
   "source": [
    "### Champagne compound words are positive, pain words are negative\n",
    "\n",
    "_fomite for my real friends, real might for my faux friends_ doesn't really make sense. You want to wish something bad on your faux friends, not something good, like might! And fomites are infection-carrying particles -- which we don't really want to wish on our real friends! So we want to filter our candidate words to ensure that the `champagne compound words` are positive and `pain words` are negative.\n",
    "\n",
    "But the concept of negativity that we're trying to capture here is really complex. \n",
    "\n",
    "This attempt uses GLoVe embeddings. For `pain words`, it accepts only words that are closer to the average embedding of some negative words (like _bad_, _painful_) and some handpicked `pain words` I particularly like (like `tricks` and `cuss`) than to the average embedding of some positive words and some handpicked `champagne compound words`. (Champagne compound words are filtered to be the opposite.)\n",
    "\n",
    "It also doesn't work perfectly."
   ]
  },
  {
   "cell_type": "code",
   "execution_count": 13,
   "id": "d009f9b1-9962-471e-975f-158bafacd7b6",
   "metadata": {},
   "outputs": [],
   "source": [
    "#| echo: true\n",
    "#| code-fold: true\n",
    "#| code-summary: classifying with handpicked positive and negative words\n",
    "\n",
    "import gensim.downloader as gensim_downloader\n",
    "if 'glove_model' not in locals():\n",
    "    glove_model = gensim_downloader.load(\"glove-wiki-gigaword-200\")\n",
    "\n",
    "# handpicked positive words and champagne compound words that I like, plus some attempted corrections\n",
    "HANDPICKED_POSITIVE_WORDS = [\"positive\", \"positivity\", \"good\", \"healthy\", \"safe\", \"normal\", \"beautiful\", \"pea\", \"tagine\", \"fondue\"]\n",
    "HANDPICKED_CHAMPAGNE_COMPOUND_WORDS = [\"champagne\", \"metrics\", \"focus\", \"shamrocks\", \"photos\", \"medics\"]\n",
    "POSITIVE_WORDS = HANDPICKED_POSITIVE_WORDS + HANDPICKED_CHAMPAGNE_COMPOUND_WORDS + [\"kisses\", \"jewish\", \"midrash\"]\n",
    "\n",
    "# handpicked negative words and pain words that I like\n",
    "HANDPICKED_NEGATIVE_WORDS = [\"bad\", \"badness\", \"evil\", \"painful\", \"dangerous\", \"negative\", \"weird\", \"ugly\"]\n",
    "HANDPICKED_PAIN_WORDS = [\"pain\", \"tricks\", \"cuss\", \"rocks\", \"feet\", \"rash\", \"dicks\", \"crocodile\", \"lenin\", \"money\"]\n",
    "NEGATIVE_WORDS = HANDPICKED_NEGATIVE_WORDS + HANDPICKED_PAIN_WORDS\n"
   ]
  },
  {
   "cell_type": "code",
   "execution_count": 14,
   "id": "5c94d323-616a-4a6c-ab7a-25262a075fdb",
   "metadata": {},
   "outputs": [],
   "source": [
    "#| echo: true\n",
    "#| code-fold: true\n",
    "#| code-summary: def is_negative(word)\n",
    "\n",
    "# handpicked\n",
    "POSITIVE_SENTIMENT_CUTOFF = 0.25\n",
    "NEGATIVE_SENTIMENT_CUTOFF = 0.045\n",
    "\n",
    "def pos_neg_similarities(word):\n",
    "    \"\"\"\n",
    "    return `word`'s cosine-similarity to the average of POSITIVE_WORDS and of NEGATIVE_WORDS\n",
    "    \"\"\"\n",
    "    try:\n",
    "        pos_similarity = glove_model.n_similarity([word], POSITIVE_WORDS)\n",
    "        neg_similarity = glove_model.n_similarity([word], NEGATIVE_WORDS)\n",
    "    except KeyError:\n",
    "        return 0.0, 0.0\n",
    "    return pos_similarity, neg_similarity\n",
    "    \n",
    "def is_negative(pain_word, default=False):\n",
    "    \"\"\"\n",
    "    True if `pain_word`'s cosine-similarity is closer to NEGATIVE_WORDS than to POSITIVE_WORDS, \n",
    "    or is close enough (with the ratio less than NEGATIVE_SENTIMENT_CUTOFF)\n",
    "    \"\"\"\n",
    "    pos_similarity, neg_similarity = pos_neg_similarities(pain_word)\n",
    "    if pos_similarity == 0.0 or neg_similarity == 0.0:\n",
    "        return default\n",
    "    return (neg_similarity > pos_similarity) or \\\n",
    "           ((pos_similarity - neg_similarity) / pos_similarity) < NEGATIVE_SENTIMENT_CUTOFF\n",
    "\n",
    "def is_positive(champagne_compound_word, default=True):\n",
    "    \"\"\"\n",
    "    True if `champagne_compound_word`'s cosine-similarity is closer to POSITIVE_WORDS than to NEGATIVE_WORDS, \n",
    "    or is close enough (with the ratio less than POSITIVE_SENTIMENT_CUTOFF)\n",
    "    \"\"\"\n",
    "    pos_similarity, neg_similarity = pos_neg_similarities(champagne_compound_word)\n",
    "    if pos_similarity == 0.0 or neg_similarity == 0.0:\n",
    "        return default        \n",
    "    return (pos_similarity > neg_similarity) or \\\n",
    "           ((neg_similarity - pos_similarity) / neg_similarity) < POSITIVE_SENTIMENT_CUTOFF\n",
    "\n",
    "assert not is_negative(\"kissing\")\n",
    "assert not is_positive(\"badness\")\n",
    "assert not is_negative(\"midrash\")\n",
    "assert not is_positive(\"rash\")\n"
   ]
  },
  {
   "cell_type": "markdown",
   "id": "04db521c-c5be-4bb9-bf76-c359855bfdf3",
   "metadata": {},
   "source": [
    "GLoVe works by translating each word to a series of coordinates, across 200 dimensions. (GLoVe gets those coordinates with machine-learning, deducing that words that occur in similar sentences probably mean similar things.) You can see in this chart that the words we consider positive cluster on the bottom left of the chart, and the ones we consider negative are more towards the top and right.\n"
   ]
  },
  {
   "cell_type": "code",
   "execution_count": 15,
   "id": "4bcf52f3-69a6-4e52-a8fe-a9b10d693a50",
   "metadata": {},
   "outputs": [
    {
     "data": {
      "image/png": "[encoded data removed]",
      "text/plain": [
       "<Figure size 640x480 with 1 Axes>"
      ]
     },
     "metadata": {},
     "output_type": "display_data"
    }
   ],
   "source": [
    "#| echo: true\n",
    "#| code-fold: true\n",
    "#| code-summary: plotting positive and negative words on a t-SNE chart\n",
    "\n",
    "import numpy as np\n",
    "import matplotlib.pyplot as plt\n",
    "%matplotlib inline\n",
    " \n",
    "from sklearn.decomposition import PCA\n",
    "from sklearn.manifold import TSNE\n",
    "\n",
    "# tsne plot of my handpicked words and a bunch of champagne-words and pain words\n",
    "\n",
    "sham_words = [\"meh\", \"sham\", \"faux\", \"bad\", \"mid\"]\n",
    "overrides = {\"faux\": \"foe\"}\n",
    "\n",
    "# make a list of relevant candidate pain words and champagne compound words to be plotted in the t-SNE chart\n",
    "candidate_champagne_compound_words = []\n",
    "candidate_pain_words = []\n",
    "for sham_word in [\"meh\", \"sham\", \"faux\", \"bad\", \"mid\"]:\n",
    "    sham_syllable = strict_word_pronunciations[overrides.get(sham_word, sham_word)][0]\n",
    "    nouns_starting_with_sham_word = list(filter(\n",
    "        lambda candidate_word: find_candidate_champagne_compound_words(candidate_word, sham_syllable=sham_syllable), \n",
    "        strict_noun_pronunciations.items()))\n",
    "    candidate_champagne_compound_words += [n for n, pron in nouns_starting_with_sham_word]\n",
    "\n",
    "    for candidate_champagne_compound_word, _ in nouns_starting_with_sham_word:\n",
    "        for candidate_champagne_prons in zip(strict_frequent_noun_pronunciations.get(candidate_champagne_compound_word, []), \n",
    "                reduced_frequent_noun_pronunciations.get(candidate_champagne_compound_word, [])):\n",
    "            for champagne_pron in candidate_champagne_prons:\n",
    "    \n",
    "                if sham_syllable != champagne_pron[:len(sham_syllable)] and \\\n",
    "                   reduce_phonemes(sham_syllable, vowel_strictness=2) != champagne_pron[:len(sham_syllable)]: \n",
    "                    # print(\"{} doesn't match {}, skipping\".format(sham_syllable, champagne_pron)) # just for debug.\n",
    "                    continue\n",
    "                for (pronunciations, syllable_offset), score in zip(list(itertools.product(\n",
    "                    [strict_frequent_noun_pronunciations, reduced_frequent_noun_pronunciations], \n",
    "                    [0, 1])\n",
    "                                                           ), range(4, 0, -1)):\n",
    "                    # gemination is only allowed for consonant-final sham words.\n",
    "                    # \"photograph for my real friends, real autograph for my faux friends\" should be invalid\n",
    "                    if syllable_offset == 1 and is_vowel(sham_syllable[-1]): continue\n",
    "                    for pain_word, pain_prons in sorted(pronunciations.items(), key=lambda word_prons: -word_frequencies.get(word[0], 0)):\n",
    "                        if (champagne_pron[len(sham_syllable)-syllable_offset:] in pain_prons):\n",
    "                            candidate_pain_words.append(pain_word)\n",
    "candidate_pain_words = list(set(candidate_pain_words))\n",
    "\n",
    "# translating the list of words to a Numpy array of the GLoVe vectors for the words\n",
    "PCA_N_COMPONENTS = 21\n",
    "words = POSITIVE_WORDS + NEGATIVE_WORDS + candidate_champagne_compound_words + candidate_pain_words\n",
    "words = [word for word in words if word in glove_model]\n",
    "words = list(set(words)) # remove duplicates\n",
    "vectors = np.array([glove_model[word] for word in words] + \n",
    "                   [np.mean([glove_model[word] for word in POSITIVE_WORDS], axis=0)] + \n",
    "                   [np.mean([glove_model[word] for word in NEGATIVE_WORDS], axis=0)])\n",
    "words += [\"mean(POSITIVE_WORDS)\", \"mean(NEGATIVE_WORDS)\"]\n",
    "\n",
    "# reducing the dimensionality of those vectors from 200 dimension to 2 with PCA and then t-SNE \n",
    "pca_reduced_vectors = PCA(n_components=PCA_N_COMPONENTS).fit_transform(vectors)\n",
    "np.set_printoptions(suppress=True)\n",
    "Y = TSNE(n_components=2, random_state=0).fit_transform(pca_reduced_vectors)\n",
    "    \n",
    "# plotting it\n",
    "df = pd.DataFrame({'x': [x for x in Y[:, 0]],\n",
    "                   'y': [y for y in Y[:, 1]],\n",
    "                   'words': words})\n",
    "df[\"is_positive\"] = df.words.apply(is_positive)\n",
    "df[\"is_negative\"] = df.words.apply(is_negative)\n",
    "\n",
    "df[\"color\"] = None\n",
    "df[\"handpicked\"] = df.words.apply(lambda x: x in HANDPICKED_POSITIVE_WORDS + HANDPICKED_NEGATIVE_WORDS)\n",
    "df[\"marker\"] = df.handpicked.apply(lambda x: \"o\" if x else \".\")\n",
    "df.loc[df.is_positive, 'color'] = \"red\"\n",
    "df.loc[df.is_negative, 'color'] = \"blue\"\n",
    "df.loc[df.words == \"mean(POSITIVE_WORDS)\", 'color'] = 'red'\n",
    "df.loc[df.words == \"mean(NEGATIVE_WORDS)\", 'color'] = 'blue'\n",
    "#df.loc[df.is_positive & df.is_negative, 'color'] = \"yellow\"\n",
    "df.set_index('words', inplace=True)\n",
    "\n",
    "word_df = df[~df.index.str.contains(\"mean(\", regex=False)]\n",
    "avg_df = df[df.index.str.contains(\"mean(\", regex=False)]\n",
    "for polarity in [True, False]:\n",
    "    subdf = word_df[word_df.is_positive == polarity]\n",
    "    plt.scatter(subdf.x, subdf.y, c=subdf.color.tolist(), marker='.', label=\"positive\" if polarity else \"negative\")\n",
    "plt.scatter(avg_df.x, avg_df.y, c=avg_df.color.tolist(), marker='o')\n",
    "plt.gca().legend()\n",
    "\n",
    "for word in [\"mean(POSITIVE_WORDS)\", \"mean(NEGATIVE_WORDS)\"]:    \n",
    "    plt.gca().annotate(word, (df.loc[word].x, df.loc[word].y))"
   ]
  },
  {
   "cell_type": "markdown",
   "id": "8c088bfb-61d5-4e29-a1c1-313a987b51cf",
   "metadata": {},
   "source": [
    "## Implementing our final rubric for `champagne phrases`"
   ]
  },
  {
   "cell_type": "code",
   "execution_count": 16,
   "id": "2e9f37bf",
   "metadata": {},
   "outputs": [],
   "source": [
    "#| echo: true\n",
    "#| code-fold: true\n",
    "#| code-summary: \"def get_best_pain_word(champagne_prons, sham_syllable):\"\n",
    "\n",
    "def get_best_pain_word(champagne_prons, sham_syllable, quiet=True, filter_by_sentiment=True):\n",
    "    \"\"\"\n",
    "    find the most common word that matches the back half of the champagne compound word\n",
    "    if we can't find one, find one that matches the back half of the champagne compound word, \n",
    "        but repeating the last phoneme of the sham word \n",
    "        (e.g. chamonix for my real friends, real money for my sham friends)\n",
    "        this is \"gemination\" -- we double up the \n",
    "    if we still can't find one, try with reduced pronunciations\n",
    "    \"\"\"\n",
    "\n",
    "    # this lets us prefer better vowel matches to worse ones, i.e.\n",
    "    # ok: folkrock for my real friends, real crook for my faux friends\n",
    "    # better: folkrock for my real friends, real croc for my faux friends\n",
    "    # previously it prefers \"crook\" because crook is more frequent than croc\n",
    "\n",
    "    # this also lets us prefer ungeminated matches over geminated ones\n",
    "    \n",
    "    for champagne_pron in champagne_prons:\n",
    "        if sham_syllable != champagne_pron[:len(sham_syllable)] and \\\n",
    "           reduce_phonemes(sham_syllable, vowel_strictness=2) != champagne_pron[:len(sham_syllable)]: \n",
    "            # print(\"{} doesn't match {}, skipping\".format(sham_syllable, champagne_pron)) # just for debug.\n",
    "            continue\n",
    "        for (pronunciations, syllable_offset), score in zip(list(itertools.product(\n",
    "            [strict_frequent_noun_pronunciations, reduced_frequent_noun_pronunciations], \n",
    "            [0, 1])\n",
    "                                                   ), range(4, 0, -1)):\n",
    "            # gemination is only allowed for consonant-final sham words.\n",
    "            # \"photograph for my real friends, real autograph for my faux friends\" should be invalid\n",
    "            if syllable_offset == 1 and is_vowel(sham_syllable[-1]): continue\n",
    "            for pain_word, pain_prons in sorted(pronunciations.items(), key=lambda word_prons: -word_frequencies.get(word[0], 0)):\n",
    "                if (champagne_pron[len(sham_syllable)-syllable_offset:] in pain_prons) and (is_negative(pain_word) or not filter_by_sentiment):\n",
    "                    return pain_word, score\n",
    "    return None, None"
   ]
  },
  {
   "cell_type": "code",
   "execution_count": 17,
   "id": "acee7b12",
   "metadata": {},
   "outputs": [],
   "source": [
    "#| code-summary: \"def find_champagne_real_pain_phrases('faux'):\"\n",
    "\n",
    "from collections import defaultdict\n",
    "\n",
    "def find_champagne_real_pain_phrases(sham_word, sham_word_override=None, real_word=\"real\", quiet=True, filter_by_sentiment=True):\n",
    "    # sham syllables can be any PoS and need to have the extras added.\n",
    "    # e.g. \"mid\" and \"faux\" are adjectives; \"meh\" isn't in the CMU pron dictionary.\n",
    "    sham_syllable = strict_word_pronunciations[sham_word_override or sham_word][0]\n",
    "    \n",
    "    nouns_starting_with_sham_word = list(filter(\n",
    "        lambda candidate_word: find_candidate_champagne_compound_words(candidate_word, sham_syllable=sham_syllable), \n",
    "        strict_noun_pronunciations.items()\n",
    "    ))\n",
    "    if not quiet:\n",
    "        print(\"Here are words (our candidate champagne compound words) that start with {}\".format(sham_syllable))\n",
    "        for noun, prons in nouns_starting_with_sham_word:\n",
    "            print(f\" - {noun}: {prons}\")\n",
    "    champagne_pain_pairs = set()\n",
    "    for candidate_champagne_compound_word, _ in nouns_starting_with_sham_word:\n",
    "        if filter_by_sentiment and not is_positive(candidate_champagne_compound_word): continue\n",
    "        for candidate_champagne_prons in zip(strict_frequent_noun_pronunciations.get(candidate_champagne_compound_word, []), \n",
    "                reduced_frequent_noun_pronunciations.get(candidate_champagne_compound_word, [])):\n",
    "            best_pain_word, score = get_best_pain_word(candidate_champagne_prons, sham_syllable, filter_by_sentiment=filter_by_sentiment)\n",
    "            if best_pain_word:\n",
    "                champagne_pain_pairs.add((candidate_champagne_compound_word, best_pain_word, score))    \n",
    "        \n",
    "    return [((f\"{candidate_champagne_compound_word} for my {real_word} friends, {real_word} {pain_word} for my {sham_word} friends\"),\n",
    "            {\"candidate_champagne_compound_word\": candidate_champagne_compound_word, \"real_word\": real_word, \"pain_word\": pain_word, \"sham_word\": sham_word, \"score\": score})\n",
    "            for candidate_champagne_compound_word, pain_word, score in sorted(champagne_pain_pairs, key=lambda x: -x[2])]"
   ]
  },
  {
   "cell_type": "markdown",
   "id": "afcbe023-f536-4837-a09f-994161af12ee",
   "metadata": {},
   "source": [
    "## ____ for my faux, sham, mid, meh and bad friends"
   ]
  },
  {
   "cell_type": "code",
   "execution_count": 18,
   "id": "99ad3d86-d3bb-4e0f-9422-ebda0b84111d",
   "metadata": {},
   "outputs": [
    {
     "name": "stdout",
     "output_type": "stream",
     "text": [
      "folkrock for my real friends, real croc for my faux friends\n",
      "fomite for my real friends, real might for my faux friends\n",
      "photo for my real friends, real toe for my faux friends\n",
      "photons for my real friends, real tons for my faux friends\n",
      "fomites for my real friends, real mites for my faux friends\n",
      "focus for my real friends, real cuss for my faux friends\n",
      "photos for my real friends, real toes for my faux friends\n",
      "photon for my real friends, real ton for my faux friends\n",
      "focus for my real friends, real kis for my faux friends\n",
      "folklore for my real friends, real clear for my faux friends\n",
      "foliage for my real friends, real ledge for my faux friends\n"
     ]
    }
   ],
   "source": [
    "#| code-summary: Finding champagne phrases if our sham word is ... 'faux'\n",
    "\n",
    "# SHAM_WORD and SHAM_WORD_OVERRIDE were defined in the \"A first try\" section\n",
    "# SHAM_WORD = faux\n",
    "for champagne_phrase, _ in find_champagne_real_pain_phrases(SHAM_WORD, sham_word_override=SHAM_WORD_OVERRIDE):\n",
    "    print(champagne_phrase)"
   ]
  },
  {
   "cell_type": "code",
   "execution_count": 19,
   "id": "e569da88",
   "metadata": {},
   "outputs": [
    {
     "name": "stdout",
     "output_type": "stream",
     "text": [
      "shamrocks for my real friends, real rocks for my sham friends\n",
      "champagnes for my real friends, real pains for my sham friends\n",
      "champagne for my real friends, real pain for my sham friends\n",
      "shamwow for my real friends, real wow for my sham friends\n",
      "shamrock for my real friends, real rock for my sham friends\n",
      "shampoo for my real friends, real poo for my sham friends\n",
      "chamonix for my real friends, real money for my sham friends\n",
      "chamois for my real friends, real woe for my sham friends\n"
     ]
    }
   ],
   "source": [
    "#| code-summary: Finding champagne phrases if our sham word is ... 'sham'\n",
    "\n",
    "for champagne_phrase, _ in find_champagne_real_pain_phrases(\"sham\"):\n",
    "    print(champagne_phrase)\n"
   ]
  },
  {
   "cell_type": "code",
   "execution_count": 20,
   "id": "2d7af882",
   "metadata": {},
   "outputs": [
    {
     "name": "stdout",
     "output_type": "stream",
     "text": [
      "midline for my real friends, real line for my mid friends\n",
      "midrash for my real friends, real rash for my mid friends\n",
      "middling for my real friends, real ling for my mid friends\n",
      "midpoint for my real friends, real point for my mid friends\n",
      "midday for my real friends, real day for my mid friends\n",
      "midnight for my real friends, real knight for my mid friends\n",
      "middle for my real friends, real ell for my mid friends\n",
      "medulla for my real friends, real ola for my mid friends\n"
     ]
    }
   ],
   "source": [
    "#| code-summary: ... if our sham word is 'mid'\n",
    "\n",
    "for champagne_phrase, _ in find_champagne_real_pain_phrases(\"mid\"):\n",
    "    print(champagne_phrase)\n"
   ]
  },
  {
   "cell_type": "code",
   "execution_count": 21,
   "id": "3d4697ba",
   "metadata": {},
   "outputs": [
    {
     "name": "stdout",
     "output_type": "stream",
     "text": [
      "badges for my real friends, real jaws for my bad friends\n"
     ]
    }
   ],
   "source": [
    "#| code-summary: ... if our sham word is 'bad'\n",
    "\n",
    "for champagne_phrase, _ in find_champagne_real_pain_phrases(\"bad\"):\n",
    "    print(champagne_phrase)\n"
   ]
  },
  {
   "cell_type": "code",
   "execution_count": 22,
   "id": "046ebd66",
   "metadata": {},
   "outputs": [
    {
     "name": "stdout",
     "output_type": "stream",
     "text": [
      "marrow for my real friends, real rho for my meh friends\n",
      "merits for my real friends, real ruts for my meh friends\n",
      "medic for my real friends, real dick for my meh friends\n",
      "married for my real friends, real reed for my meh friends\n",
      "method for my real friends, real thud for my meh friends\n",
      "meadows for my real friends, real doze for my meh friends\n",
      "merits for my real friends, real writs for my meh friends\n",
      "medics for my real friends, real dicks for my meh friends\n",
      "meadow for my real friends, real doh for my meh friends\n",
      "marriages for my real friends, real ridges for my meh friends\n",
      "marriage for my real friends, real ridge for my meh friends\n",
      "merit for my real friends, real rut for my meh friends\n",
      "metric for my real friends, real trick for my meh friends\n",
      "metrics for my real friends, real tricks for my meh friends\n",
      "metals for my real friends, real tolls for my meh friends\n",
      "medals for my real friends, real dolls for my meh friends\n",
      "medico for my real friends, real deco for my meh friends\n",
      "metal for my real friends, real tall for my meh friends\n",
      "melons for my real friends, real loans for my meh friends\n",
      "medal for my real friends, real dahl for my meh friends\n",
      "meshes for my real friends, real shows for my meh friends\n",
      "message for my real friends, real sedge for my meh friends\n"
     ]
    }
   ],
   "source": [
    "#| code-summary: ... if our sham word is 'meh'\n",
    "\n",
    "for champagne_phrase, _ in find_champagne_real_pain_phrases(\"meh\"):\n",
    "    print(champagne_phrase)\n"
   ]
  },
  {
   "cell_type": "code",
   "execution_count": 23,
   "id": "06738043-108f-4498-963e-c8fc0892eb01",
   "metadata": {},
   "outputs": [
    {
     "name": "stdout",
     "output_type": "stream",
     "text": [
      "crappie for my real friends, real pee for my crap friends\n"
     ]
    }
   ],
   "source": [
    "#| code-summary: ... if our sham word is 'crap'\n",
    "\n",
    "for champagne_phrase, _ in find_champagne_real_pain_phrases(\"crap\"):\n",
    "    print(champagne_phrase)\n"
   ]
  },
  {
   "cell_type": "code",
   "execution_count": 24,
   "id": "c16600f8-aede-4def-ad22-d9ef700a0379",
   "metadata": {},
   "outputs": [
    {
     "name": "stdout",
     "output_type": "stream",
     "text": [
      "barflies for my real friends, real lies for my barf friends\n"
     ]
    }
   ],
   "source": [
    "#| code-summary: ... if our sham word is 'barf'\n",
    "\n",
    "for champagne_phrase, _ in find_champagne_real_pain_phrases(\"barf\"):\n",
    "    print(champagne_phrase)\n"
   ]
  },
  {
   "cell_type": "markdown",
   "id": "270168b5-3521-4ca6-a310-a564b51e4e33",
   "metadata": {},
   "source": [
    "(Crappie is a kind of fish.)"
   ]
  },
  {
   "cell_type": "code",
   "execution_count": 25,
   "id": "4f70d550-cabd-43e0-ae41-2e89cc554bbb",
   "metadata": {},
   "outputs": [
    {
     "name": "stdout",
     "output_type": "stream",
     "text": [
      "exposition for my real friends, real position for my ex friends\n",
      "extract for my real friends, real tract for my ex friends\n",
      "extraction for my real friends, real traction for my ex friends\n",
      "exile for my real friends, real isle for my ex friends\n",
      "expos for my real friends, real pose for my ex friends\n",
      "exchequer for my real friends, real checker for my ex friends\n",
      "extracts for my real friends, real tracts for my ex friends\n",
      "expert for my real friends, real spurt for my ex friends\n",
      "exon for my real friends, real son for my ex friends\n",
      "experts for my real friends, real spurts for my ex friends\n",
      "excess for my real friends, real oss for my ex friends\n",
      "exit for my real friends, real aught for my ex friends\n",
      "exports for my real friends, real parts for my ex friends\n",
      "expositions for my real friends, real possessions for my ex friends\n",
      "expo for my real friends, real paw for my ex friends\n",
      "export for my real friends, real part for my ex friends\n",
      "exponent for my real friends, real pennant for my ex friends\n",
      "extras for my real friends, real straws for my ex friends\n"
     ]
    }
   ],
   "source": [
    "#| code-summary: ... if our sham word is 'ex'\n",
    "\n",
    "for champagne_phrase, _ in find_champagne_real_pain_phrases(\"ex\"):\n",
    "    print(champagne_phrase)\n"
   ]
  },
  {
   "cell_type": "code",
   "execution_count": 27,
   "id": "6be2bfcf",
   "metadata": {},
   "outputs": [],
   "source": [
    "#| echo: true\n",
    "#| code-fold: true\n",
    "#| code-summary: regression testing\n",
    "\n",
    "# regression testing\n",
    "assert not any(['photograph' in phrase and 'autograph' in phrase for phrase, _ in find_champagne_real_pain_phrases(\"faux\", sham_word_override=\"foe\")])\n",
    "assert any(['shamrocks' in phrase for phrase, _ in find_champagne_real_pain_phrases(\"sham\")])\n",
    "assert any(['money' in phrase and 'chamonix' in phrase for phrase, _ in find_champagne_real_pain_phrases(\"sham\")])\n",
    "assert any(['midrash' in phrase for phrase, _ in find_champagne_real_pain_phrases(\"mid\")])\n",
    "assert any(['folkrock' in phrase for phrase, _ in find_champagne_real_pain_phrases(\"faux\", sham_word_override=\"foe\")])\n",
    "assert any([metadata[\"pain_word\"] == \"croc\" for phrase, metadata in find_champagne_real_pain_phrases(\"faux\", sham_word_override=\"foe\")])\n",
    "assert any(['fomites' in phrase for phrase, _ in find_champagne_real_pain_phrases(\"faux\", sham_word_override=\"foe\")])\n",
    "if NSFW_WORDS_ALLOWED:\n",
    "    assert any(['badges' in phrase and unmask_nsfw('aml6eg==') in phrase for phrase, _ in find_champagne_real_pain_phrases(\"bad\")])\n",
    "else:\n",
    "    assert not any(['badges' in phrase and unmask_nsfw('aml6eg==') in phrase for phrase, _ in find_champagne_real_pain_phrases(\"bad\")])\n",
    "\n"
   ]
  },
  {
   "cell_type": "markdown",
   "id": "b611f60e",
   "metadata": {},
   "source": [
    "## A worked example\n",
    "\n",
    "Let's walk through this step by step.\n",
    "\n",
    "Chamonix is a province in France. It has two very different pronunciations in the CMU Pronouncing Dictionary. One Americanized pronunciation, _tcham-onyx_ and a French one like _sham-oh-knee_.\n",
    "\n",
    "(The Americanized pronunciation -- which is incorrect -- might be meant for automatic speech recognition systems akin to Siri or Alexa that would have to recognize an incorrect pronunciation, rather than for text-to-speech systems. Or it might be that this particular entry in the CMU Pronouncing Dictionary was generated by an unmotivated undergrad without a background in French.)"
   ]
  },
  {
   "cell_type": "code",
   "execution_count": 28,
   "id": "a3d66aae-0345-499e-bfc5-04d70135c047",
   "metadata": {},
   "outputs": [
    {
     "data": {
      "text/plain": [
       "[['CH', 'AE1', 'M', 'AH0', 'N', 'IH0', 'K', 'S'],\n",
       " ['SH', 'AE0', 'M', 'OW0', 'N', 'IY0']]"
      ]
     },
     "execution_count": 28,
     "metadata": {},
     "output_type": "execute_result"
    }
   ],
   "source": [
    "#| code-fold: false\n",
    "\n",
    "cmudict.dict()[\"chamonix\"]"
   ]
  },
  {
   "cell_type": "markdown",
   "id": "f6c3997e",
   "metadata": {},
   "source": [
    "Here's what the pronunciation looks like with the stresses removed."
   ]
  },
  {
   "cell_type": "code",
   "execution_count": 29,
   "id": "6cb1d93c",
   "metadata": {},
   "outputs": [
    {
     "data": {
      "text/plain": [
       "[('CH', 'AE', 'M', 'AH', 'N', 'IH', 'K', 'S'),\n",
       " ('SH', 'AE', 'M', 'OW', 'N', 'IY')]"
      ]
     },
     "execution_count": 29,
     "metadata": {},
     "output_type": "execute_result"
    }
   ],
   "source": [
    "#| code-fold: false\n",
    "\n",
    "strict_word_pronunciations[\"chamonix\"]"
   ]
  },
  {
   "cell_type": "code",
   "execution_count": 30,
   "id": "4f20c22c",
   "metadata": {},
   "outputs": [
    {
     "data": {
      "text/plain": [
       "('SH', 'AE', 'M')"
      ]
     },
     "execution_count": 30,
     "metadata": {},
     "output_type": "execute_result"
    }
   ],
   "source": [
    "#| code-fold: false\n",
    "\n",
    "sham_word = \"sham\"\n",
    "sham_syllable = strict_word_pronunciations[sham_word][0]\n",
    "sham_syllable"
   ]
  },
  {
   "cell_type": "markdown",
   "id": "de817cf7",
   "metadata": {},
   "source": [
    "See how `('SH', 'AE', 'M')` is the first half of the second pronunciation, `('SH', 'AE', 'M', 'OW', 'N', 'IY')`\n",
    "\n",
    "Now, we're looking to see if there are any `pain word`s that are pronounced like any of these options for the pronunciation of the back half of _chamonix_.\n",
    "\n",
    "First, we're looking for something that matches `('OW', 'N', 'IY')` or `('M', 'OW', 'N', 'IY')` -- the back half without any vowel reductions. `('OW', 'N', 'IY')` would be preferable, since it doesn't require double-up the `M` in both the `sham word` (_sham_) and the `pain word` (_money_, in this case).\n",
    "\n",
    "Here are those strict pronunciations that we're looking for."
   ]
  },
  {
   "cell_type": "code",
   "execution_count": 31,
   "id": "6f437de8",
   "metadata": {},
   "outputs": [
    {
     "name": "stdout",
     "output_type": "stream",
     "text": [
      "('AH', 'N', 'IH', 'K', 'S')\n",
      "('M', 'AH', 'N', 'IH', 'K', 'S')\n",
      "('OW', 'N', 'IY')\n",
      "('M', 'OW', 'N', 'IY')\n"
     ]
    }
   ],
   "source": [
    "#| code-fold: false\n",
    "\n",
    "for chamonix_pronunciation in strict_word_pronunciations[\"chamonix\"]:\n",
    "    print(chamonix_pronunciation[len(sham_syllable):])\n",
    "    print(chamonix_pronunciation[len(sham_syllable)-1:])    "
   ]
  },
  {
   "cell_type": "markdown",
   "id": "7c786b03",
   "metadata": {},
   "source": [
    "Or, if we can't find something that matches the strict, we'd look for something that matches the back half of _chamonix_ with reductions.\n",
    "\n",
    "Here's what those reduced pronunciations look like:"
   ]
  },
  {
   "cell_type": "code",
   "execution_count": 32,
   "id": "7608e2be",
   "metadata": {},
   "outputs": [
    {
     "name": "stdout",
     "output_type": "stream",
     "text": [
      "('AH', 'N', 'AH', 'K', 'S')\n",
      "('M', 'AH', 'N', 'AH', 'K', 'S')\n",
      "('AH', 'N', 'IY')\n",
      "('M', 'AH', 'N', 'IY')\n"
     ]
    }
   ],
   "source": [
    "#| code-fold: false\n",
    "\n",
    "for chamonix_pronunciation in reduced_frequent_noun_pronunciations[\"chamonix\"]:\n",
    "    print(chamonix_pronunciation[len(sham_syllable):])\n",
    "    print(chamonix_pronunciation[len(sham_syllable)-1:])"
   ]
  },
  {
   "cell_type": "markdown",
   "id": "21786dac",
   "metadata": {},
   "source": [
    "With those eight acceptable pronunciations in mind, we loop through every noun in the English language, to see if any nouns are pronounced that way. We find three!"
   ]
  },
  {
   "cell_type": "code",
   "execution_count": 33,
   "id": "d0c65422-bb66-4083-b44c-f3c55e4bb40f",
   "metadata": {},
   "outputs": [
    {
     "data": {
      "text/plain": [
       "[('M', 'AH', 'N', 'IY')]"
      ]
     },
     "execution_count": 33,
     "metadata": {},
     "output_type": "execute_result"
    }
   ],
   "source": [
    "#| code-fold: false\n",
    "\n",
    "strict_noun_pronunciations[\"money\"]"
   ]
  },
  {
   "cell_type": "code",
   "execution_count": 34,
   "id": "71af1f9a-ea69-42d8-877a-0ce1d4e1528c",
   "metadata": {},
   "outputs": [
    {
     "data": {
      "text/plain": [
       "[('AA', 'N', 'IH', 'K', 'S')]"
      ]
     },
     "execution_count": 34,
     "metadata": {},
     "output_type": "execute_result"
    }
   ],
   "source": [
    "#| code-fold: false\n",
    "\n",
    "strict_noun_pronunciations[\"onyx\"]"
   ]
  },
  {
   "cell_type": "code",
   "execution_count": 35,
   "id": "b60c27fd",
   "metadata": {},
   "outputs": [
    {
     "data": {
      "text/plain": [
       "[('AE', 'N', 'EH', 'K', 'S'), ('AH', 'N', 'EH', 'K', 'S')]"
      ]
     },
     "execution_count": 35,
     "metadata": {},
     "output_type": "execute_result"
    }
   ],
   "source": [
    "#| code-fold: false\n",
    "\n",
    "strict_noun_pronunciations[\"annex\"]"
   ]
  },
  {
   "cell_type": "markdown",
   "id": "b3234509",
   "metadata": {},
   "source": [
    "None of those three words match either strict pronunciation of _chamonix_. So we get no result from `get_best_pain_word` here."
   ]
  },
  {
   "cell_type": "code",
   "execution_count": 36,
   "id": "71e6d9fe",
   "metadata": {},
   "outputs": [
    {
     "data": {
      "text/plain": [
       "(None, None)"
      ]
     },
     "execution_count": 36,
     "metadata": {},
     "output_type": "execute_result"
    }
   ],
   "source": [
    "#| code-fold: false\n",
    "\n",
    "get_best_pain_word(strict_noun_pronunciations[\"chamonix\"], strict_noun_pronunciations[\"sham\"][0])"
   ]
  },
  {
   "cell_type": "markdown",
   "id": "ef685ae2",
   "metadata": {},
   "source": [
    "But they do match the reduced pronunciation of _chamonix_. "
   ]
  },
  {
   "cell_type": "code",
   "execution_count": 37,
   "id": "ab218890",
   "metadata": {},
   "outputs": [
    {
     "data": {
      "text/plain": [
       "('money', 3)"
      ]
     },
     "execution_count": 37,
     "metadata": {},
     "output_type": "execute_result"
    }
   ],
   "source": [
    "#| code-fold: false\n",
    "\n",
    "get_best_pain_word(reduced_frequent_noun_pronunciations[\"chamonix\"], strict_noun_pronunciations[\"sham\"][0])"
   ]
  },
  {
   "cell_type": "markdown",
   "id": "34635fda",
   "metadata": {},
   "source": [
    "_Money_ is picked becuase it is the more common than either _onyx_ or _annex_."
   ]
  },
  {
   "cell_type": "code",
   "execution_count": 38,
   "id": "7a10ee18",
   "metadata": {},
   "outputs": [
    {
     "name": "stdout",
     "output_type": "stream",
     "text": [
      "frequency of money is 190,205,072 and it is negative\n",
      "frequency of  onyx is 2,315,135 and it is negative\n",
      "frequency of annex is 8,465,905 and it is positive\n"
     ]
    }
   ],
   "source": [
    "#| code-fold: false\n",
    "\n",
    "for word in [\"money\", \"onyx\", \"annex\"]:\n",
    "    print(\"frequency of {: >5} is {:,.0f} and it is {}\".format(word, word_frequencies[word], \"negative\" if is_negative(word) else \"positive\"))"
   ]
  },
  {
   "cell_type": "markdown",
   "id": "f341ea30",
   "metadata": {},
   "source": [
    "## Future enhancements\n"
   ]
  },
  {
   "cell_type": "markdown",
   "id": "3016c53e",
   "metadata": {},
   "source": [
    "### Use \"a\" for pain words that are count nouns\n",
    "\n",
    "for singular, count nouns, we should add \"a\" (or \"an\") before hand, so it makes a bit more sense.\n",
    "\n",
    "- _**a** phoney for my real friends, **a** real knee for my faux friends_\n",
    "\n",
    "this would be tricky, because we don't want to do this for mass nouns (like _champagne_). [CUVPlus](https://llds.ling-phil.ox.ac.uk/llds/xmlui/handle/20.500.14106/2469) may be a way to do this, although it regards champagne as a count noun (erroneously, in my view).\n",
    "\n",
    "Count nouns are those that you refer to individually. A couch, two laptops, many friends. Mass nouns are referred to regardless of their quantity: coffee, champagne, sand. Some nouns can be both, like _squirrel_. (_I like squirrels_ means something different from _I like squirrel_, which implies that you like eating squirrel meat.)"
   ]
  },
  {
   "cell_type": "markdown",
   "id": "0712fbba",
   "metadata": {},
   "source": [
    "### Metrics for my real friends\n",
    "\n",
    "compile all the examples here and get some humans to rate them on how funny they are, and see if we can't figure out some more rules to filter out the crappy ones and generate more funny ones."
   ]
  },
  {
   "cell_type": "markdown",
   "id": "3aa46f7e",
   "metadata": {},
   "source": [
    "### Better phonology\n",
    "\n",
    "The vowel reduction logic above is pretty rough. My linguistics education is rusty enough that I can't write a rule to exclude false-positive matches like _medulla for my real friends, real allah for my mid friends_.\n",
    "\n",
    "Additionally, diphthongs are often close enough to single vowels to count as a rhyme. You could imagine _Champlain for my real friends, real playin' for my sham friends_ working, but the code as of now wouldn't be able to equate _plain_ and _playin'_. \n",
    "\n",
    "The matching logic could also allow voiced and unvoiced consonants (that share a place of articulation) to match, which would allow sentences like _extremes for my real friends, real dreams for my ex friends_."
   ]
  },
  {
   "cell_type": "markdown",
   "id": "93782548-331f-4f5e-8854-7d1bfa6b877e",
   "metadata": {},
   "source": [
    "### Improve positive/negative classification\n",
    "\n",
    "It'd be great to find a better way to classify pain words as negative or not. This is one place where GPT4 might do a good job! A traditional classifier based on the VADER wordlist and GLoVE vectors might also do a good enough job of capturing our very specific sense of positivity/negativity, too."
   ]
  },
  {
   "cell_type": "markdown",
   "id": "3eb6dd5f-d457-49b0-b2cd-9602e2511dfa",
   "metadata": {},
   "source": [
    "#### What about VADER (or AFINN)?\n",
    "\n",
    "VADER is a time-tested dictionary-based sentiment analysis methodology -- that is, it's a big list of hand-picked words rated by how positive or negative they are. The code below is a first stab at using VADER to filter out pain words that aren't classified as negative. But the VADER lexicon list is relatively small, and many negative words words -- like _mites_ -- aren't on it, so many good phrases get incorrectly excluded. (Another sentiment wordlist, AFINN, only contains pain words already present in VADER.)\n",
    "\n",
    "We'd only get these five results (which are pretty good, but fewer than we'd want) with the VADER methodology."
   ]
  },
  {
   "cell_type": "code",
   "execution_count": 39,
   "id": "31a86054-aaca-4bd9-92e1-f79f9b7d47bc",
   "metadata": {},
   "outputs": [
    {
     "name": "stdout",
     "output_type": "stream",
     "text": [
      "medic for my real friends, real dick for my meh friends\n",
      "metric for my real friends, real trick for my meh friends\n",
      "metrics for my real friends, real tricks for my meh friends\n",
      "champagnes for my real friends, real pains for my sham friends\n",
      "champagne for my real friends, real pain for my sham friends\n",
      "chamois for my real friends, real woe for my sham friends\n",
      "midrash for my real friends, real rash for my mid friends\n"
     ]
    }
   ],
   "source": [
    "from nltk.sentiment.vader import SentimentIntensityAnalyzer\n",
    "nltk_download('vader_lexicon', quiet=True)\n",
    "s = SentimentIntensityAnalyzer()\n",
    "\n",
    "overrides = {\"faux\": \"foe\"}\n",
    "for sham_word in [\"meh\", \"sham\", \"faux\", \"bad\", \"mid\"]:\n",
    "    for champagne_phrase, metadata in find_champagne_real_pain_phrases(sham_word, sham_word_override=overrides.get(sham_word)):\n",
    "        if s.lexicon.get(metadata[\"pain_word\"], 0) < 0:\n",
    "            print(champagne_phrase)"
   ]
  },
  {
   "cell_type": "markdown",
   "id": "37d11cbb-e626-48d8-9acb-5da4b9a63eda",
   "metadata": {},
   "source": [
    "### What pain words are excluded by the existing positive/negative methodology?"
   ]
  },
  {
   "cell_type": "code",
   "execution_count": 40,
   "id": "4aff1a17-3d85-4e0b-b1fd-4614a0347827",
   "metadata": {},
   "outputs": [
    {
     "name": "stdout",
     "output_type": "stream",
     "text": [
      "focuses for my real friends, real kisses for my faux friends\n",
      "focusing for my real friends, real kissing for my faux friends\n",
      "photons for my real friends, real tonnes for my faux friends\n",
      "focuses for my real friends, real kisses for my faux friends\n",
      "focusing for my real friends, real kissing for my faux friends\n",
      "\n",
      "shamrock for my real friends, real roc for my sham friends\n",
      "\n",
      "midwife for my real friends, real wife for my mid friends\n",
      "midwives for my real friends, real wives for my mid friends\n",
      "midsummer for my real friends, real summer for my mid friends\n",
      "\n",
      "married for my real friends, real read for my meh friends\n",
      "menus for my real friends, real news for my meh friends\n",
      "mesquite for my real friends, real skeet for my meh friends\n",
      "melons for my real friends, real lawns for my meh friends\n",
      "melon for my real friends, real lawn for my meh friends\n",
      "\n",
      "\n"
     ]
    }
   ],
   "source": [
    "\n",
    "for sham_word in [\"faux\", \"sham\", \"mid\", \"meh\", \"bad\"]:\n",
    "    for champagne_phrase, metadata in find_champagne_real_pain_phrases(sham_word, sham_word_override=overrides.get(sham_word), filter_by_sentiment=False):\n",
    "        if not is_negative(metadata[\"pain_word\"], default=False) and \\\n",
    "           is_positive(metadata[\"candidate_champagne_compound_word\"], default=True):\n",
    "            print(champagne_phrase)\n",
    "    print()\n"
   ]
  },
  {
   "cell_type": "markdown",
   "id": "7f9816ff-4ea9-4722-9128-c9149d3332a9",
   "metadata": {},
   "source": [
    "In particular, I like\n",
    "\n",
    "- _chamonix for my real friends, real money for my sham friends_\n",
    "- _menus for my real friends, real news for my meh friends_\n",
    "\n",
    "but they don't quite fit the rubric (since neither _money_ nor _news_ is really negative.)\n",
    "\n",
    "Thoughts? Improvements? Suggestions on more `sham words` I should plug in? Please send me an [email](https://jeremybmerrill.com/contact/), message me on [Mastodon](https://journa.host/@jeremybmerrill) or [Bluesky](https://bsky.app/profile/jeremybmerrill.com) or open a [Github issue](https://github.com/jeremybmerrill/champagne_real_pain)."
   ]
  },
  {
   "cell_type": "code",
   "execution_count": 41,
   "id": "6526f0b7",
   "metadata": {},
   "outputs": [],
   "source": [
    "#| echo: false\n",
    "#| output: false\n",
    "#| code-fold: true\n",
    "#| code-summary: debugging why a word didn't show up.\n",
    "\n",
    "\n",
    "# debugging:\n",
    "def why_is_this_word_absent(word):\n",
    "    if not is_noun(word):\n",
    "        print(f\"is_noun({word}) is false\")\n",
    "    if word in word_frequencies and word_frequencies.get(word) < MIN_FREQUENCY:\n",
    "        print(\"{}'s frequency is {}, which is below MIN_FREQUENCY\".format(word, word_frequencies.get(word), MIN_FREQUENCY))\n",
    "    if word not in word_frequencies:\n",
    "        print(f\"{word} not in word frequencies\")\n",
    "    if not cmudict_pronunciations[word]:\n",
    "        print(f\"{word} not in cmudict\")\n",
    "why_is_this_word_absent('poo')\n",
    "why_is_this_word_absent('shamrocks')\n",
    "why_is_this_word_absent('midrash')\n",
    "why_is_this_word_absent('badges')\n",
    "why_is_this_word_absent('shambles')\n"
   ]
  },
  {
   "cell_type": "code",
   "execution_count": 42,
   "id": "9918b66f",
   "metadata": {},
   "outputs": [
    {
     "name": "stdout",
     "output_type": "stream",
     "text": [
      "considering ('F', 'OW', 'K', 'R', 'AA', 'K')\n",
      "croc\n",
      "crock\n",
      "considering ('F', 'AH', 'K', 'R', 'AH', 'K')\n",
      "crick\n",
      "croak\n",
      "croc\n",
      "crock\n",
      "crook\n"
     ]
    }
   ],
   "source": [
    "#| echo: false\n",
    "#| output: false\n",
    "#| code-fold: true\n",
    "#| code-summary: debugging the candidate pain words for a given champagne compound word\n",
    "\n",
    "candidate_champagne_compound_word = \"folkrock\"\n",
    "sham_syllable = word_pronunciations[\"foe\"][0]\n",
    "for champagne_prons in zip(strict_frequent_noun_pronunciations.get(candidate_champagne_compound_word, []), \n",
    "                reduced_frequent_noun_pronunciations.get(candidate_champagne_compound_word, [])):\n",
    "    for champagne_pron in champagne_prons:\n",
    "        print(f\"considering {champagne_pron}\")\n",
    "        if sham_syllable != champagne_pron[:len(sham_syllable)] and \\\n",
    "           reduce_phonemes(sham_syllable, vowel_strictness=2) != champagne_pron[:len(sham_syllable)]: \n",
    "            print(\"{} doesn't match {}, skipping\".format(sham_syllable, champagne_pron))\n",
    "            continue\n",
    "        for pronunciations, syllable_offset in list(itertools.product(\n",
    "            [strict_frequent_noun_pronunciations, reduced_frequent_noun_pronunciations], \n",
    "            [0, 1])\n",
    "                                                   ):\n",
    "            for pain_word, pain_prons in sorted(pronunciations.items(), key=lambda word_prons: -word_frequencies.get(word[0], 0)):\n",
    "                if (champagne_pron[len(sham_syllable)-syllable_offset:] in pain_prons):\n",
    "                    print(pain_word)\n"
   ]
  },
  {
   "cell_type": "code",
   "execution_count": null,
   "id": "f3eed314-c1e9-4154-890a-bd08e253d32d",
   "metadata": {},
   "outputs": [],
   "source": []
  }
 ],
 "metadata": {
  "kernelspec": {
   "display_name": "Python 3 (ipykernel)",
   "language": "python",
   "name": "python3"
  },
  "language_info": {
   "codemirror_mode": {
    "name": "ipython",
    "version": 3
   },
   "file_extension": ".py",
   "mimetype": "text/x-python",
   "name": "python",
   "nbconvert_exporter": "python",
   "pygments_lexer": "ipython3",
   "version": "3.9.16"
  }
 },
 "nbformat": 4,
 "nbformat_minor": 5
}
